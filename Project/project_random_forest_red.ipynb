{
 "cells": [
  {
   "cell_type": "code",
   "execution_count": 4,
   "metadata": {
    "collapsed": true
   },
   "outputs": [
    {
     "name": "stdout",
     "output_type": "stream",
     "text": [
      "38925\n[b'Scotland' b'England' b'Friendly' b'FALSE']\n[b'England' b'Scotland' b'Friendly' b'FALSE']\n"
     ]
    },
    {
     "name": "stdout",
     "output_type": "stream",
     "text": [
      "(38925, 4)\n"
     ]
    },
    {
     "name": "stdout",
     "output_type": "stream",
     "text": [
      "[180 64 47 0]\n[180 64 47 0]\n[173 179 45 0]\n"
     ]
    },
    {
     "name": "stderr",
     "output_type": "stream",
     "text": [
      "/Library/Frameworks/Python.framework/Versions/3.6/lib/python3.6/site-packages/sklearn/model_selection/_split.py:2026: FutureWarning: From version 0.21, test_size will always complement train_size unless both are specified.\n  FutureWarning)\n"
     ]
    }
   ],
   "source": [
    "# Pre Process the data : \n",
    "import matplotlib.pyplot as plt\n",
    "import numpy as np \n",
    "\n",
    "from sklearn.model_selection import train_test_split\n",
    "from sklearn.preprocessing import LabelEncoder, OneHotEncoder\n",
    "from sklearn.model_selection import GridSearchCV\n",
    "import datetime\n",
    "import os\n",
    "\n",
    "path = \"/Users/martin/Desktop/Cours/Advanced Computing techniques 2018/Project/\"\n",
    "os.chdir(path)\n",
    "\n",
    "import extra_function_date as func\n",
    "\n",
    "filename = \"results.csv\"\n",
    "filename_woWC = \"results_wo_WC2014.csv\"\n",
    "filename_WC =\"result_2014_WC.csv\"\n",
    "filename_2018 =\"data_WC2018.csv\"\n",
    "dtype = (object,4)\n",
    "\n",
    "#read the 3 data set : 1: all games, 2:all games execpt 2014 World Cup, 3: only 2014 World cup\n",
    "X = np.genfromtxt(path+ filename, delimiter=\",\", skip_header=1, dtype=dtype, encoding=None,usecols=[1,2,5,8])\n",
    "X_woWC = np.genfromtxt(path+ filename_woWC, delimiter=\",\", skip_header=1, dtype=dtype, encoding=None,usecols=[1,2,5,8])\n",
    "X_WC = np.genfromtxt(path+ filename_WC, delimiter=\",\", skip_header=1, dtype=dtype, encoding=None,usecols=[1,2,5,8])\n",
    "X_2018 = np.genfromtxt(path+ filename_2018, delimiter=\",\", skip_header=1, dtype=dtype, encoding=None,usecols=[1,2,5,8])\n",
    "date_2018 = np.genfromtxt(path+ filename_2018, delimiter=\",\",dtype=(str,10), skip_header=1, encoding=None,usecols=[0])\n",
    "\n",
    "n = len(X[:,0])\n",
    "print(n)\n",
    "\n",
    "print(X_woWC[0,:])\n",
    "print(X_woWC[1,:])\n",
    "\n",
    "#Encode the playing country, make sure that away and home team are encoded in the same way\n",
    "le_country = LabelEncoder().fit(X[:,1])\n",
    "X[:,0] = le_country.transform(X[:,0])\n",
    "X_WC[:,0] = le_country.transform(X_WC[:,0])\n",
    "X_woWC[:,0] = le_country.transform(X_woWC[:,0])\n",
    "X_2018[:,0] = le_country.transform(X_2018[:,0])\n",
    "X[:,1] = le_country.transform(X[:,1])\n",
    "X_WC[:,1] = le_country.transform(X_WC[:,1])\n",
    "X_woWC[:,1] = le_country.transform(X_woWC[:,1])\n",
    "X_2018[:,1] = le_country.transform(X_2018[:,1])\n",
    "\n",
    "#Encode the the rest : \n",
    "todo = [2,3]\n",
    "for i in todo:\n",
    "    le = LabelEncoder().fit(X[:,i])\n",
    "    X[:,i] = le.transform(X[:,i])\n",
    "    X_WC[:,i] = le.transform(X_WC[:,i])\n",
    "    X_woWC[:,i] = le.transform(X_woWC[:,i])\n",
    "    X_2018[:,i] = le.transform(X_2018[:,i])\n",
    "\n",
    "# one = OneHotEncoder().fit(X[:,3:5])\n",
    "# X[:,3:5] = one.transform(X[:,3:5])\n",
    "\n",
    "print(np.shape(X))\n",
    "\n",
    "#get the label: \n",
    "dtype = (int,2)\n",
    "y = np.genfromtxt(path+ filename, delimiter=\",\", skip_header=1, dtype=dtype, encoding=None,usecols=[3,4])\n",
    "y_WC = np.genfromtxt(path+ filename_WC, delimiter=\",\", skip_header=1, dtype=dtype, encoding=None,usecols=[3,4])\n",
    "y_woWC = np.genfromtxt(path+ filename_woWC, delimiter=\",\", skip_header=1, dtype=dtype, encoding=None,usecols=[3,4])\n",
    "\n",
    "def get_label(y):\n",
    "    label = y[:,0]-y[:,1]    \n",
    "    label_classifier =[]\n",
    "    \n",
    "    for i,x in enumerate(label):\n",
    "        if x > 0 : \n",
    "            label_classifier.append(0)#home win\n",
    "        elif x == 0:\n",
    "            label_classifier.append(1)#draw\n",
    "        else:\n",
    "            label_classifier.append(2)#away win \n",
    "    return label_classifier\n",
    "        \n",
    "# label_classifier = np.asarray(label_classifier).reshape(-1, 1)\n",
    "# print (label_classifier)\n",
    "\n",
    "label_classifier = np.asarray(get_label(y))\n",
    "label_classifier_WC = np.asarray(get_label(y_WC))\n",
    "label_classifier_woWC = np.asarray(get_label(y_woWC))\n",
    "\n",
    "# one_hot_lab = OneHotEncoder(categorical_features = [0], sparse = False)\n",
    "# label_classifier = one_hot_lab.fit_transform(label_classifier.reshape(-1,1))\n",
    "\n",
    "# print(np.shape(label_classifier_woWC))\n",
    "# print(np.shape(label_classifier))\n",
    "print(X_woWC[0,:])\n",
    "print(X[0,:])\n",
    "print(X_2018[0,:])\n",
    "\n",
    "from sklearn.model_selection import train_test_split\n",
    "X_train, X_validation, y_train, y_validation = train_test_split(X, label_classifier, train_size = 0.8)\n",
    "\n"
   ]
  },
  {
   "cell_type": "code",
   "execution_count": 5,
   "metadata": {},
   "outputs": [
    {
     "name": "stdout",
     "output_type": "stream",
     "text": [
      "[0 0 0 0 0 0 0 0 0 0]\n0.5016056518946692\n"
     ]
    },
    {
     "name": "stdout",
     "output_type": "stream",
     "text": [
      "GridSearchCV took 131.79 seconds for 48 candidate parameter settings.\nModel with rank: 1\nMean validation score: 0.513 (std: 0.001)\nParameters: {'bootstrap': True, 'criterion': 'entropy', 'max_depth': 100, 'min_samples_leaf': 10}\n\nModel with rank: 2\nMean validation score: 0.513 (std: 0.001)\nParameters: {'bootstrap': True, 'criterion': 'entropy', 'max_depth': 1000, 'min_samples_leaf': 10}\n\nModel with rank: 3\nMean validation score: 0.512 (std: 0.002)\nParameters: {'bootstrap': True, 'criterion': 'gini', 'max_depth': 1000, 'min_samples_leaf': 10}\n\n"
     ]
    }
   ],
   "source": [
    "#Optimize the Random Forest Classifier on 80/20 split data set : \n",
    "\n",
    "from sklearn.ensemble import RandomForestClassifier\n",
    "from sklearn.tree import DecisionTreeClassifier\n",
    "import time\n",
    "\n",
    "tree = DecisionTreeClassifier()\n",
    "tree.fit(X_train, y_train)\n",
    "y_pred_single = tree.predict(X_validation)\n",
    "\n",
    "trees = RandomForestClassifier(n_estimators=20, max_depth=7)\n",
    "trees.fit(X_train, y_train)\n",
    "print(trees.predict(X_validation)[10:20])\n",
    "print(trees.score(X_validation,y_validation))\n",
    "\n",
    "# Utility function to report best scores\n",
    "def report(results, n_top=3):\n",
    "    for i in range(1, n_top + 1):\n",
    "        candidates = np.flatnonzero(results['rank_test_score'] == i)\n",
    "        for candidate in candidates:\n",
    "            print(\"Model with rank: {0}\".format(i))\n",
    "            print(\"Mean validation score: {0:.3f} (std: {1:.3f})\".format(\n",
    "                  results['mean_test_score'][candidate],\n",
    "                  results['std_test_score'][candidate]))\n",
    "            print(\"Parameters: {0}\".format(results['params'][candidate]))\n",
    "            print(\"\")\n",
    "\n",
    "param_grid = {\"max_depth\": [10,50,100,1000],\n",
    "              \"min_samples_leaf\": [5, 10,50],\n",
    "              \"bootstrap\": [True, False],\n",
    "              \"criterion\": [\"gini\", \"entropy\"]}\n",
    "\n",
    "clf = RandomForestClassifier(n_estimators=40)\n",
    "start = time.time()\n",
    "grid_search = GridSearchCV(clf, param_grid=param_grid)\n",
    "grid_search.fit(X_train, y_train)\n",
    "\n",
    "print(\"GridSearchCV took %.2f seconds for %d candidate parameter settings.\"\n",
    "      % (time.time() - start, len(grid_search.cv_results_['params'])))\n",
    "report(grid_search.cv_results_)\n",
    "\n",
    "best_param = grid_search.best_estimator_\n",
    "\n",
    "\n",
    "\n"
   ]
  },
  {
   "cell_type": "code",
   "execution_count": 6,
   "metadata": {
    "collapsed": true
   },
   "outputs": [
    {
     "name": "stdout",
     "output_type": "stream",
     "text": [
      "0.5296082209377007\nConfusion matrix, without normalization\n[[3317   85  414]\n [1367   58  334]\n [1397   65  748]]\n"
     ]
    },
    {
     "data": {
      "image/png": "[encoded data removed]",
      "text/plain": [
       "<matplotlib.figure.Figure at 0x1088fc0f0>"
      ]
     },
     "metadata": {},
     "output_type": "display_data"
    }
   ],
   "source": [
    "#PLot the mixing matrix \n",
    "print(best_param.score(X_validation,y_validation))\n",
    "# print(best_param.predict(X_validation))\n",
    "# print(best_param.predict_proba(X_validation))\n",
    "\n",
    "from sklearn.metrics import confusion_matrix\n",
    "import extra_function_date as func\n",
    "from importlib import reload\n",
    "reload(func)\n",
    "y_pred = best_param.predict(X_validation)\n",
    "cnf_matrix = confusion_matrix(y_validation,y_pred)\n",
    "\n",
    "class_names = ['home win','draw','away win']\n",
    "func.plot_confusion_matrix(cnf_matrix, classes=class_names,\n",
    "                      title='Confusion matrix, without normalization')\n"
   ]
  },
  {
   "cell_type": "code",
   "execution_count": 7,
   "metadata": {},
   "outputs": [
    {
     "name": "stderr",
     "output_type": "stream",
     "text": [
      "/Library/Frameworks/Python.framework/Versions/3.6/lib/python3.6/site-packages/sklearn/model_selection/_split.py:2026: FutureWarning: From version 0.21, test_size will always complement train_size unless both are specified.\n  FutureWarning)\n"
     ]
    },
    {
     "name": "stdout",
     "output_type": "stream",
     "text": [
      "Fitting the data on all the games since 2000.\nGridSearchCV2 took 237.37 seconds for 48 candidate parameter settings.\nModel with rank: 1\nMean validation score: 0.500 (std: 0.003)\nParameters: {'bootstrap': True, 'criterion': 'gini', 'max_depth': 10, 'min_samples_leaf': 5}\n\nModel with rank: 2\nMean validation score: 0.500 (std: 0.006)\nParameters: {'bootstrap': True, 'criterion': 'entropy', 'max_depth': 100, 'min_samples_leaf': 10}\n\nModel with rank: 3\nMean validation score: 0.499 (std: 0.003)\nParameters: {'bootstrap': False, 'criterion': 'entropy', 'max_depth': 10, 'min_samples_leaf': 5}\n\nFitting the data on everything but the 2014 WC.\nGridSearchCV3 took 237.37 seconds for 48 candidate parameter settings.\nModel with rank: 1\nMean validation score: 0.502 (std: 0.013)\nParameters: {'bootstrap': True, 'criterion': 'gini', 'max_depth': 100, 'min_samples_leaf': 10}\n\nModel with rank: 2\nMean validation score: 0.502 (std: 0.012)\nParameters: {'bootstrap': True, 'criterion': 'entropy', 'max_depth': 1000, 'min_samples_leaf': 10}\n\nModel with rank: 3\nMean validation score: 0.501 (std: 0.013)\nParameters: {'bootstrap': True, 'criterion': 'gini', 'max_depth': 1000, 'min_samples_leaf': 10}\n\n"
     ]
    }
   ],
   "source": [
    "#test if the algorithm perform better if we use only the results from 2000, it migh contains only the usefull data...  \n",
    "#test also if it gives better results if we train on all data but the 2014WC and test on the 2014 WC.\n",
    "\n",
    "reduced_X = X[22227:]\n",
    "label_reduced = label_classifier[22227:]\n",
    "\n",
    "X_train_reduced, X_validation_reduced, y_train_reduced, y_validation_reduced = train_test_split(reduced_X, label_reduced, train_size = 0.8)\n",
    "X_train_woWC, X_validation_woWC, y_train_woWC, y_validation_woWC = train_test_split(X_woWC, label_classifier_woWC, train_size = 0.8)\n",
    "\n",
    "clf2 = RandomForestClassifier(n_estimators=40)\n",
    "clf3 = RandomForestClassifier(n_estimators=40)\n",
    "start = time.time()\n",
    "grid_search2 = GridSearchCV(clf2, param_grid=param_grid)\n",
    "grid_search3 = GridSearchCV(clf3, param_grid=param_grid)\n",
    "grid_search2.fit(X_train_reduced, y_train_reduced)\n",
    "grid_search3.fit(X_woWC, label_classifier_woWC)\n",
    "print(\"Fitting the data on all the games since 2000.\")\n",
    "print(\"GridSearchCV2 took %.2f seconds for %d candidate parameter settings.\"\n",
    "      % (time.time() - start, len(grid_search2.cv_results_['params'])))\n",
    "report(grid_search2.cv_results_)\n",
    "\n",
    "print(\"Fitting the data on everything but the 2014 WC.\")\n",
    "print(\"GridSearchCV3 took %.2f seconds for %d candidate parameter settings.\"\n",
    "      % (time.time() - start, len(grid_search3.cv_results_['params'])))\n",
    "report(grid_search3.cv_results_)\n",
    "\n",
    "\n",
    "\n"
   ]
  },
  {
   "cell_type": "code",
   "execution_count": 10,
   "metadata": {},
   "outputs": [
    {
     "name": "stdout",
     "output_type": "stream",
     "text": [
      "Score on the data since 2000 on test set :\n0.5263473053892216\nConfusion matrix, without normalization\n[[1549    8  102]\n [ 656   11  113]\n [ 699    4  198]]\n"
     ]
    },
    {
     "data": {
      "image/png": "[encoded data removed]",
      "text/plain": [
       "<matplotlib.figure.Figure at 0x115e84b38>"
      ]
     },
     "metadata": {},
     "output_type": "display_data"
    },
    {
     "name": "stdout",
     "output_type": "stream",
     "text": [
      "Score on all the data but WC2014 on test set :\n0.5950328143096126\nScore on all the data but WC2014 on test on the WC2014 :\n0.4444444444444444\n"
     ]
    },
    {
     "name": "stdout",
     "output_type": "stream",
     "text": [
      "Confusion matrix, without normalization\n[[3460   46  234]\n [1372  180  322]\n [1106   67  984]]\n"
     ]
    },
    {
     "data": {
      "image/png": "[encoded data removed]",
      "text/plain": [
       "<matplotlib.figure.Figure at 0x115ea9e10>"
      ]
     },
     "metadata": {},
     "output_type": "display_data"
    }
   ],
   "source": [
    "#PLot the mixing matrix according to the 2 new splitting stragies\n",
    "best_param2 = grid_search2.best_estimator_\n",
    "best_param3 = grid_search3.best_estimator_\n",
    "\n",
    "print(\"Score on the data since 2000 on test set :\")\n",
    "print(best_param2.score(X_validation_reduced,y_validation_reduced))\n",
    "# print(best_param.predict(X_validation))\n",
    "# print(best_param2.predict_proba(X_validation_reduced))\n",
    "\n",
    "y_pred_reduced = best_param2.predict(X_validation_reduced)\n",
    "cnf_matrix = confusion_matrix(y_validation_reduced,y_pred_reduced)\n",
    "\n",
    "func.plot_confusion_matrix(cnf_matrix, classes=class_names,\n",
    "                      title='Confusion matrix of algo trained on games since 2000')\n",
    "plt.show()\n",
    "\n",
    "print(\"Score on all the data but WC2014 on test set :\")\n",
    "print(best_param3.score(X_validation_woWC,y_validation_woWC))\n",
    "print(\"Score on all the data but WC2014 on test on the WC2014 :\")\n",
    "print(best_param3.score(X_WC,label_classifier_WC))\n",
    "#there is something strange here RFC scores better when we remove the WC2014 data, but it is really bad at predicting the result of the 2014WC....\n",
    "\n",
    "y_pred_woWC= best_param3.predict(X_validation_woWC)\n",
    "cnf_matrix = confusion_matrix(y_validation_woWC,y_pred_woWC)\n",
    "\n",
    "func.plot_confusion_matrix(cnf_matrix, classes=class_names,\n",
    "                      title='Confusion matrix of algo trained on all games but WC2014')"
   ]
  },
  {
   "cell_type": "code",
   "execution_count": 12,
   "metadata": {},
   "outputs": [
    {
     "name": "stdout",
     "output_type": "stream",
     "text": [
      "Score of the algorythm trained on 1)everything 2)all the games since 2000 3)all the games but 2014 WC to predict \n0.5714285714285714\n0.5555555555555556\n0.4444444444444444\nConfusion matrix, without normalization\n[[22  0  6]\n [ 9  2  2]\n [ 9  1 12]]\n"
     ]
    },
    {
     "data": {
      "image/png": "[encoded data removed]",
      "text/plain": [
       "<matplotlib.figure.Figure at 0x115d82d30>"
      ]
     },
     "metadata": {},
     "output_type": "display_data"
    }
   ],
   "source": [
    "#estimate the accuracy on the 2014 WC :\n",
    "# I know that I should not train and test my data on the same data set, but just for curiosity....\n",
    "#of course the models trained on the testing set, give better accuracy... \n",
    "\n",
    "print(\"Score of the algorythm trained on 1)everything 2)all the games since 2000 3)all the games but 2014 WC to predict \")\n",
    "print(best_param.score(X_WC,label_classifier_WC))\n",
    "print(best_param2.score(X_WC,label_classifier_WC))\n",
    "print(best_param3.score(X_WC,label_classifier_WC))\n",
    "\n",
    "y_pred_WC= best_param.predict(X_WC)\n",
    "cnf_matrix = confusion_matrix(label_classifier_WC,y_pred_WC)\n",
    "\n",
    "func.plot_confusion_matrix(cnf_matrix, classes=class_names,\n",
    "                      title='Confusion matrix of algo trained on all games for tested on the WC 2014')"
   ]
  },
  {
   "cell_type": "code",
   "execution_count": 14,
   "metadata": {},
   "outputs": [
    {
     "name": "stdout",
     "output_type": "stream",
     "text": [
      "[0 2 2 2 0 0 0 0 0 0 0 0 2 2 0 0 0 0 2 0 0 0 0 0 0 2 2 2 0 0 0 0 2 0 2 2 0\n 0 2 1 2 0 2 2 1 0 0 2]\n2018-06-14 : b'Russia' vs b'Saudi Arabia', predicted results : home win with probability 0.44873710705425046\n2018-06-15 : b'Egypt' vs b'Uruguay', predicted results : away win with probability 0.5358474324372964\n2018-06-15 : b'Morocco' vs b'Iran', predicted results : away win with probability 0.4682256279720452\n2018-06-15 : b'Portugal' vs b'Spain', predicted results : away win with probability 0.45072659931150066\n2018-06-16 : b'France' vs b'Australia', predicted results : home win with probability 0.5794966360510282\n2018-06-16 : b'Argentina' vs b'Iceland', predicted results : home win with probability 0.5307277561805895\n2018-06-16 : b'Peru' vs b'Denmark', predicted results : home win with probability 0.4139303903686845\n2018-06-16 : b'Croatia' vs b'Nigeria', predicted results : home win with probability 0.45986742317954016\n2018-06-17 : b'Costa Rica' vs b'Serbia', predicted results : home win with probability 0.42615709359723397\n2018-06-17 : b'Germany' vs b'Mexico', predicted results : home win with probability 0.5324688922654773\n2018-06-17 : b'Brazil' vs b'Switzerland', predicted results : home win with probability 0.5816281305386124\n2018-06-18 : b'Sweden' vs b'Korea Republic', predicted results : home win with probability 0.3440174159425094\n2018-06-18 : b'Belgium' vs b'Panama', predicted results : away win with probability 0.3895538151540089\n2018-06-18 : b'Tunisia' vs b'England', predicted results : away win with probability 0.4186288497402816\n2018-06-19 : b'Colombia' vs b'Japan', predicted results : home win with probability 0.42316193131014757\n2018-06-19 : b'Poland' vs b'Senegal', predicted results : home win with probability 0.4739964068673749\n2018-06-19 : b'Russia' vs b'Egypt', predicted results : home win with probability 0.4976732036030511\n2018-06-20 : b'Portugal' vs b'Morocco', predicted results : home win with probability 0.4898915198007365\n2018-06-20 : b'Uruguay' vs b'Saudi Arabia', predicted results : away win with probability 0.48143825521128647\n2018-06-20 : b'Iran' vs b'Spain', predicted results : home win with probability 0.4135119920857219\n2018-06-21 : b'Denmark' vs b'Australia', predicted results : home win with probability 0.5545077523789965\n2018-06-21 : b'France' vs b'Peru', predicted results : home win with probability 0.46499739499673287\n2018-06-21 : b'Argentina' vs b'Croatia', predicted results : home win with probability 0.5294733506547187\n2018-06-22 : b'Brazil' vs b'Costa Rica', predicted results : home win with probability 0.6940067691078509\n2018-06-22 : b'Nigeria' vs b'Iceland', predicted results : home win with probability 0.4210429224832038\n2018-06-22 : b'Serbia' vs b'Switzerland', predicted results : away win with probability 0.4703594554558587\n2018-06-23 : b'Belgium' vs b'Tunisia', predicted results : away win with probability 0.4529416885060383\n2018-06-23 : b'Korea Republic' vs b'Mexico', predicted results : away win with probability 0.4404608053468676\n2018-06-23 : b'Germany' vs b'Sweden', predicted results : home win with probability 0.5381824682319594\n2018-06-24 : b'England' vs b'Panama', predicted results : home win with probability 0.5259422756356061\n2018-06-24 : b'Japan' vs b'Senegal', predicted results : home win with probability 0.41760762020446507\n2018-06-24 : b'Poland' vs b'Colombia', predicted results : home win with probability 0.4447779595636713\n2018-06-25 : b'Saudi Arabia' vs b'Egypt', predicted results : away win with probability 0.39701235090329123\n2018-06-25 : b'Russia' vs b'Uruguay', predicted results : home win with probability 0.42071403354762704\n2018-06-25 : b'Iran' vs b'Portugal', predicted results : away win with probability 0.3759256240877224\n2018-06-25 : b'Spain' vs b'Morocco', predicted results : away win with probability 0.49022763382097584\n2018-06-26 : b'Australia' vs b'Peru', predicted results : home win with probability 0.5446053923473644\n2018-06-26 : b'Denmark' vs b'France', predicted results : home win with probability 0.4199087033855554\n2018-06-26 : b'Iceland' vs b'Croatia', predicted results : away win with probability 0.5179678911576215\n2018-06-26 : b'Nigeria' vs b'Argentina', predicted results : draw with probability 0.4080247175187801\n2018-06-27 : b'Mexico' vs b'Sweden', predicted results : away win with probability 0.4612223630409481\n2018-06-27 : b'Korea Republic' vs b'Germany', predicted results : home win with probability 0.4630171313084149\n2018-06-27 : b'Serbia' vs b'Brazil', predicted results : away win with probability 0.36008809230360955\n2018-06-27 : b'Switzerland' vs b'Costa Rica', predicted results : away win with probability 0.44821797610243863\n2018-06-28 : b'Japan' vs b'Poland', predicted results : draw with probability 0.3542978656386921\n2018-06-28 : b'Senegal' vs b'Colombia', predicted results : home win with probability 0.42504335087914075\n2018-06-28 : b'England' vs b'Belgium', predicted results : home win with probability 0.5756222492629532\n2018-06-28 : b'Panama' vs b'Tunisia', predicted results : away win with probability 0.4609657835841747\n"
     ]
    }
   ],
   "source": [
    "#Conclusion we need all the data ! \n",
    "#Now try to result of 2018 WC \n",
    "import warnings\n",
    "warnings.filterwarnings(action='ignore', category=DeprecationWarning)\n",
    "\n",
    "y_2018 = best_param.predict(X_2018)\n",
    "y_2018_proba = np.asarray(best_param.predict_proba(X_2018))\n",
    "print(y_2018)\n",
    "\n",
    "\n",
    "\n",
    "for i in range (len(X_2018[:,0])): \n",
    "    home_country = le_country.inverse_transform(X_2018[i,0])\n",
    "    away_country = le_country.inverse_transform(X_2018[i,1])\n",
    "    if y_2018[i] == 0 : \n",
    "        print(date_2018[i] + \" : \" + str(home_country) + \" vs \" + str(away_country)+ \", predicted results : home win with probability \" + str(y_2018_proba[i,0])) \n",
    "    elif y_2018[i] == 1 : \n",
    "        print(date_2018[i] + \" : \" + str(home_country) + \" vs \" + str(away_country)+ \", predicted results : draw with probability \" + str(y_2018_proba[i,1])) \n",
    "        \n",
    "    elif y_2018[i] == 2 : \n",
    "        print(date_2018[i] + \" : \" + str(home_country) + \" vs \" + str(away_country)+ \", predicted results : away win with probability \" + str(y_2018_proba[i,2])) \n",
    "        \n",
    "\n",
    "\n"
   ]
  },
  {
   "cell_type": "code",
   "execution_count": 15,
   "metadata": {},
   "outputs": [
    {
     "name": "stdout",
     "output_type": "stream",
     "text": [
      "(48, 3)\n(48, 4)\n2018-06-14 : b'Russia' vs b'Saudi Arabia', predicted results : home win, expectation :0.6057950945232382\n2018-06-15 : b'Egypt' vs b'Uruguay', predicted results : away win, expectation :0.8519974175753012\n2018-06-15 : b'Morocco' vs b'Iran', predicted results : away win, expectation :1.6762477481399218\n2018-06-15 : b'Portugal' vs b'Spain', predicted results : away win, expectation :0.8789168686574262\n2018-06-16 : b'France' vs b'Australia', predicted results : home win, expectation :0.7127808623427646\n2018-06-16 : b'Argentina' vs b'Iceland', predicted results : home win, expectation :0.7164824708437959\n2018-06-16 : b'Peru' vs b'Denmark', predicted results : home win, expectation :1.5687961794973142\n2018-06-16 : b'Croatia' vs b'Nigeria', predicted results : home win, expectation :0.8645507555775355\n2018-06-17 : b'Costa Rica' vs b'Serbia', predicted results : home win, expectation :1.7344593709407423\n2018-06-17 : b'Germany' vs b'Mexico', predicted results : home win, expectation :0.7774045827075969\n2018-06-17 : b'Brazil' vs b'Switzerland', predicted results : home win, expectation :0.8084631014486712\n2018-06-18 : b'Sweden' vs b'Korea Republic', predicted results : home win, expectation :0.7258767476386948\n2018-06-18 : b'Belgium' vs b'Panama', predicted results : away win, expectation :9.103872660149188\n2018-06-18 : b'Tunisia' vs b'England', predicted results : away win, expectation :0.5735215241441858\n2018-06-19 : b'Colombia' vs b'Japan', predicted results : home win, expectation :0.7447649991058597\n2018-06-19 : b'Poland' vs b'Senegal', predicted results : home win, expectation :1.113891556138331\n2018-06-19 : b'Russia' vs b'Egypt', predicted results : home win, expectation :0.9206954266656446\n2018-06-20 : b'Portugal' vs b'Morocco', predicted results : home win, expectation :0.7593318556911416\n2018-06-20 : b'Uruguay' vs b'Saudi Arabia', predicted results : away win, expectation :6.653476687019979\n2018-06-20 : b'Iran' vs b'Spain', predicted results : home win, expectation :7.1165413837952745\n2018-06-21 : b'Denmark' vs b'Australia', predicted results : home win, expectation :0.959298411615664\n2018-06-21 : b'France' vs b'Peru', predicted results : home win, expectation :0.6323964571955567\n2018-06-21 : b'Argentina' vs b'Croatia', predicted results : home win, expectation :1.0059993662439655\n2018-06-22 : b'Brazil' vs b'Costa Rica', predicted results : home win, expectation :0.8605683936937351\n2018-06-22 : b'Nigeria' vs b'Iceland', predicted results : home win, expectation :1.1704993245033064\n2018-06-22 : b'Serbia' vs b'Switzerland', predicted results : away win, expectation :1.2276381787397912\n2018-06-23 : b'Belgium' vs b'Tunisia', predicted results : away win, expectation :5.507770932233425\n2018-06-23 : b'Korea Republic' vs b'Mexico', predicted results : away win, expectation :0.8633031784798605\n2018-06-23 : b'Germany' vs b'Sweden', predicted results : home win, expectation :0.807273702347939\n2018-06-24 : b'England' vs b'Panama', predicted results : home win, expectation :0.6311307307627273\n2018-06-24 : b'Japan' vs b'Senegal', predicted results : home win, expectation :1.3948094514829132\n2018-06-24 : b'Poland' vs b'Colombia', predicted results : home win, expectation :1.3654683358604707\n2018-06-25 : b'Saudi Arabia' vs b'Egypt', predicted results : away win, expectation :0.6947716140807596\n2018-06-25 : b'Russia' vs b'Uruguay', predicted results : home win, expectation :1.0475779435335915\n2018-06-25 : b'Iran' vs b'Portugal', predicted results : away win, expectation :0.5187773612410569\n2018-06-25 : b'Spain' vs b'Morocco', predicted results : away win, expectation :4.657162521299271\n2018-06-26 : b'Australia' vs b'Peru', predicted results : home win, expectation :1.8734425496749334\n2018-06-26 : b'Denmark' vs b'France', predicted results : home win, expectation :2.343090564891399\n2018-06-26 : b'Iceland' vs b'Croatia', predicted results : away win, expectation :0.9427015619068713\n2018-06-26 : b'Nigeria' vs b'Argentina', predicted results : draw, expectation :1.7912285099074445\n2018-06-27 : b'Mexico' vs b'Sweden', predicted results : away win, expectation :1.3882793127532538\n2018-06-27 : b'Korea Republic' vs b'Germany', predicted results : home win, expectation :5.435821121560791\n2018-06-27 : b'Serbia' vs b'Brazil', predicted results : away win, expectation :0.49692156737898113\n2018-06-27 : b'Switzerland' vs b'Costa Rica', predicted results : away win, expectation :2.021463072221998\n2018-06-28 : b'Japan' vs b'Poland', predicted results : draw, expectation :1.2329565724226486\n2018-06-28 : b'Senegal' vs b'Colombia', predicted results : home win, expectation :1.7341768715868944\n2018-06-28 : b'England' vs b'Belgium', predicted results : home win, expectation :1.6923294128330826\n2018-06-28 : b'Panama' vs b'Tunisia', predicted results : away win, expectation :1.0510019865719182\n"
     ]
    }
   ],
   "source": [
    "#Now compute the expectation using the odds of the bookmakers : \n",
    "filename_odds = \"data_odds_2018WC.csv\"\n",
    "odds = np.genfromtxt(path+ filename_odds, delimiter=\",\",dtype=(float,3), skip_header=1, encoding=None,usecols=[3,4,5])\n",
    "odds = np.asarray(odds)\n",
    "print(np.shape(odds))\n",
    "print(np.shape(X_2018))\n",
    "\n",
    "expectation = [] \n",
    "\n",
    "for i in range (len(X_2018[:,0])): \n",
    "    home_country = le_country.inverse_transform(X_2018[i,0])\n",
    "    away_country = le_country.inverse_transform(X_2018[i,1])\n",
    "\n",
    "    if y_2018[i] == 0 : \n",
    "        expectation.append(y_2018_proba[i,0]* odds[i,0])\n",
    "        print(date_2018[i] + \" : \" + str(home_country) + \" vs \" + str(away_country)+ \", predicted results : home win, expectation :\" + str(expectation[i]) ) \n",
    "    elif y_2018[i] == 1 : \n",
    "        expectation.append(y_2018_proba[i,1]*odds[i,1])\n",
    "        print(date_2018[i] + \" : \" + str(home_country) + \" vs \" + str(away_country)+ \", predicted results : draw, expectation :\" + str(expectation[i]) ) \n",
    "        \n",
    "    elif y_2018[i] == 2 : \n",
    "        expectation.append(y_2018_proba[i,2]*odds[i,2])\n",
    "        print(date_2018[i] + \" : \" + str(home_country) + \" vs \" + str(away_country)+ \", predicted results : away win, expectation :\" + str(expectation[i]) ) "
   ]
  },
  {
   "cell_type": "code",
   "execution_count": 18,
   "metadata": {},
   "outputs": [
    {
     "name": "stdout",
     "output_type": "stream",
     "text": [
      "Bookmaker odds and prediction disagree for the game : b'Morocco' vs b'Iran'\nBookmaker odds and prediction disagree for the game : b'Peru' vs b'Denmark'\nBookmaker odds and prediction disagree for the game : b'Costa Rica' vs b'Serbia'\nBookmaker odds and prediction disagree for the game : b'Belgium' vs b'Panama'\nBookmaker odds and prediction disagree for the game : b'Uruguay' vs b'Saudi Arabia'\nBookmaker odds and prediction disagree for the game : b'Iran' vs b'Spain'\nBookmaker odds and prediction disagree for the game : b'Belgium' vs b'Tunisia'\nBookmaker odds and prediction disagree for the game : b'Japan' vs b'Senegal'\nBookmaker odds and prediction disagree for the game : b'Poland' vs b'Colombia'\nBookmaker odds and prediction disagree for the game : b'Spain' vs b'Morocco'\nBookmaker odds and prediction disagree for the game : b'Australia' vs b'Peru'\nBookmaker odds and prediction disagree for the game : b'Denmark' vs b'France'\nBookmaker odds and prediction disagree for the game : b'Nigeria' vs b'Argentina'\nBookmaker odds and prediction disagree for the game : b'Mexico' vs b'Sweden'\nBookmaker odds and prediction disagree for the game : b'Korea Republic' vs b'Germany'\nBookmaker odds and prediction disagree for the game : b'Switzerland' vs b'Costa Rica'\nBookmaker odds and prediction disagree for the game : b'Japan' vs b'Poland'\nBookmaker odds and prediction disagree for the game : b'Senegal' vs b'Colombia'\nBookmaker odds and prediction disagree for the game : b'England' vs b'Belgium'\nRFC gives expected result of the bookmaker in 39.58 % of the cases \n"
     ]
    }
   ],
   "source": [
    "odds_predicition = [np.argmin(odds[i,:]) for i in range(len(odds))]  #get the lowest odds as the favorite \n",
    "count = 0 \n",
    "for i in range(len(odds)):\n",
    "    home_country = le_country.inverse_transform(X_2018[i,0])\n",
    "    away_country = le_country.inverse_transform(X_2018[i,1])\n",
    "    if odds_predicition[i] != y_2018[i]: \n",
    "        print(\"Bookmaker odds and prediction disagree for the game : \"+ str(home_country) + \" vs \" + str(away_country))\n",
    "        count +=1 \n",
    "        \n",
    "print(\"RFC gives expected result of the bookmaker in %2.2f %% of the cases \"%(count/len(odds)*100))"
   ]
  },
  {
   "cell_type": "code",
   "execution_count": null,
   "metadata": {},
   "outputs": [],
   "source": []
  }
 ],
 "metadata": {
  "kernelspec": {
   "display_name": "Python 2",
   "language": "python",
   "name": "python2"
  },
  "language_info": {
   "codemirror_mode": {
    "name": "ipython",
    "version": 2
   },
   "file_extension": ".py",
   "mimetype": "text/x-python",
   "name": "python",
   "nbconvert_exporter": "python",
   "pygments_lexer": "ipython2",
   "version": "2.7.6"
  }
 },
 "nbformat": 4,
 "nbformat_minor": 0
}
